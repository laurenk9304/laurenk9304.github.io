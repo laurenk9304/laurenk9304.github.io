{
 "cells": [
  {
   "cell_type": "markdown",
   "metadata": {},
   "source": [
    "# Marketing Analytics Data Set - Food Tech #"
   ]
  },
  {
   "cell_type": "markdown",
   "metadata": {},
   "source": [
    "## Introduction\n",
    "\n",
    "This notebook will accomplish the following task:\n",
    "\n",
    "**Overall goal:**  \n",
    "You're a marketing analyst and you've been told by the Chief Marketing Officer that recent marketing campaigns have not been as effective as they were expected to be. You need to analyze the data set to understand this problem and propose data-driven solutions.  \n",
    "\n",
    "**Section 01: Exploratory Data Analysis**  \n",
    "* Are there any null values or outliers? How will you wrangle/handle them?\n",
    "* Are there any variables that warrant transformations?\n",
    "* Are there any useful variables that you can engineer with the given data?\n",
    "* Do you notice any patterns or anomalies in the data? Can you plot them?\n",
    "\n",
    "**Section 02: Statistical Analysis**  \n",
    "Please run statistical tests in the form of regressions to answer these questions & propose data-driven action recommendations to your CMO. Make sure to interpret your results with non-statistical jargon so your CMO can understand your findings.  \n",
    "\n",
    "* What factors are significantly related to the number of store purchases?\n",
    "* Does US fare significantly better than the Rest of the World in terms of total purchases?\n",
    "* Your supervisor insists that people who buy gold are more conservative. Therefore, people who spent an above average amount on gold in the last 2 years would have more in store purchases. Justify or refute this statement using an appropriate statistical test\n",
    "* Fish has Omega 3 fatty acids which are good for the brain. Accordingly, do \"Married PhD candidates\" have a significant relation with amount spent on fish? What other factors are significantly related to amount spent on fish? (Hint: use your knowledge of interaction variables/effects)\n",
    "* Is there a significant relationship between geographical regional and success of a campaign?\n",
    "\n",
    "**Section 03: Data Visualization**  \n",
    "Please plot and visualize the answers to the below questions.  \n",
    "\n",
    "* Which marketing campaign is most successful?\n",
    "* What does the average customer look like for this company?\n",
    "* Which products are performing best?\n",
    "* Which channels are underperforming?"
   ]
  },
  {
   "cell_type": "markdown",
   "metadata": {},
   "source": [
    "## Dataset\n",
    "\n",
    "Before beginning the analysis, we will load and view the dataset, and perform some initial cleaning.\n",
    "\n",
    "* View the dataset info:"
   ]
  },
  {
   "cell_type": "code",
   "execution_count": null,
   "metadata": {
    "_cell_guid": "b1076dfc-b9ad-4769-8c92-a6c4dae69d19",
    "_kg_hide-input": true,
    "_kg_hide-output": false,
    "_uuid": "8f2839f25d086af736a60e9eeb907d3b93b6e0e5"
   },
   "outputs": [],
   "source": [
    "# load libraries\n",
    "\n",
    "import numpy as np\n",
    "import pandas as pd\n",
    "import matplotlib.pyplot as plt\n",
    "import seaborn as sns\n",
    "\n",
    "pd.set_option('display.max_columns', None)\n",
    "%matplotlib inline\n",
    "sns.set_context('notebook')\n",
    "sns.set_style('whitegrid')\n",
    "sns.set_palette('Blues_r')\n",
    "\n",
    "# turn off warnings for final notebook\n",
    "import warnings\n",
    "warnings.filterwarnings('ignore')\n",
    "\n",
    "# load dataset\n",
    "df = pd.read_csv('../input/marketing-data/marketing_data.csv')\n",
    "print(df.info())\n",
    "df.head()"
   ]
  },
  {
   "cell_type": "markdown",
   "metadata": {},
   "source": [
    "* Clean up column names\n",
    "* Transform selected columns to numeric format:\n",
    "    - `Income` to float"
   ]
  },
  {
   "cell_type": "code",
   "execution_count": null,
   "metadata": {
    "_kg_hide-input": false,
    "_kg_hide-output": false
   },
   "outputs": [],
   "source": [
    "# clean up column names that contain whitespace\n",
    "df.columns = df.columns.str.replace(' ', '')\n",
    "\n",
    "# transform Income column to a numerical\n",
    "df['Income'] = df['Income'].str.replace('$', '')\n",
    "df['Income'] = df['Income'].str.replace(',', '').astype('float')"
   ]
  },
  {
   "cell_type": "markdown",
   "metadata": {},
   "source": [
    "* The cleaned dataset:"
   ]
  },
  {
   "cell_type": "code",
   "execution_count": null,
   "metadata": {
    "_kg_hide-input": true
   },
   "outputs": [],
   "source": [
    "df.head()"
   ]
  },
  {
   "cell_type": "markdown",
   "metadata": {},
   "source": [
    "# Section 01: Exploratory Data Analysis\n",
    "\n",
    "### Are there any null values or outliers? How will you wrangle/handle them?\n",
    "\n",
    "#### Null Values\n",
    "* Identify features containing null values:"
   ]
  },
  {
   "cell_type": "code",
   "execution_count": null,
   "metadata": {
    "_cell_guid": "79c7e3d0-c299-4dcb-8224-4455121ee9b0",
    "_kg_hide-input": true,
    "_uuid": "d629ff2d2480ee46fbb7e2d37f6b5fab8052498a"
   },
   "outputs": [],
   "source": [
    "# null values\n",
    "df.isnull().sum().sort_values(ascending=False)"
   ]
  },
  {
   "cell_type": "markdown",
   "metadata": {},
   "source": [
    "* The feature `Income` contains 24 null values\n",
    "* Plot this feature to identify best strategy for imputation\n",
    "    - Findings: \n",
    "        - Most incomes are distributed between \\\\$0-\\\\$100,000, with a few outliers\n",
    "        - Will impute null values with median value, to avoid effects of outliers on imputation value"
   ]
  },
  {
   "cell_type": "code",
   "execution_count": null,
   "metadata": {
    "_kg_hide-input": true
   },
   "outputs": [],
   "source": [
    "plt.figure(figsize=(8,4))\n",
    "sns.distplot(df['Income'], kde=False, hist=True)\n",
    "plt.title('Income distribution', size=16)\n",
    "plt.ylabel('count');"
   ]
  },
  {
   "cell_type": "code",
   "execution_count": null,
   "metadata": {
    "_kg_hide-input": true
   },
   "outputs": [],
   "source": [
    "df['Income'].plot(kind='box', figsize=(3,4), patch_artist=True)"
   ]
  },
  {
   "cell_type": "markdown",
   "metadata": {},
   "source": [
    "* Impute null values in `Income`, using median value (to avoid skewing of the mean due to outliers):"
   ]
  },
  {
   "cell_type": "code",
   "execution_count": null,
   "metadata": {
    "_kg_hide-input": false
   },
   "outputs": [],
   "source": [
    "df['Income'] = df['Income'].fillna(df['Income'].median())"
   ]
  },
  {
   "cell_type": "markdown",
   "metadata": {},
   "source": [
    "#### Outliers\n",
    "\n",
    "* Identify features containing outliers:\n",
    "    - Findings: Multiple features contain outliers (see boxplots below), but the only that likely indicate data entry errors are `Year_Birth <= 1900`"
   ]
  },
  {
   "cell_type": "code",
   "execution_count": null,
   "metadata": {
    "_kg_hide-input": true
   },
   "outputs": [],
   "source": [
    "# select columns to plot\n",
    "df_to_plot = df.drop(columns=['ID', 'AcceptedCmp1', 'AcceptedCmp2', 'AcceptedCmp3', 'AcceptedCmp4', 'AcceptedCmp5', 'Response', 'Complain']).select_dtypes(include=np.number)\n",
    "\n",
    "# subplots\n",
    "df_to_plot.plot(subplots=True, layout=(4,4), kind='box', figsize=(12,14), patch_artist=True)\n",
    "plt.subplots_adjust(wspace=0.5);"
   ]
  },
  {
   "cell_type": "markdown",
   "metadata": {},
   "source": [
    "* Remove rows where `Year_Birth <= 1900`:"
   ]
  },
  {
   "cell_type": "code",
   "execution_count": null,
   "metadata": {
    "_kg_hide-input": true
   },
   "outputs": [],
   "source": [
    "df = df[df['Year_Birth'] > 1900].reset_index(drop=True)\n",
    "\n",
    "plt.figure(figsize=(3,4))\n",
    "df['Year_Birth'].plot(kind='box', patch_artist=True);"
   ]
  },
  {
   "cell_type": "markdown",
   "metadata": {},
   "source": [
    "## Are there any variables that warrant transformations?\n",
    "\n",
    "* View data types:\n",
    "    - Findings: The `Dt_Customer` column should be transformed to datetime format"
   ]
  },
  {
   "cell_type": "code",
   "execution_count": null,
   "metadata": {
    "_kg_hide-input": true
   },
   "outputs": [],
   "source": [
    "df.info()"
   ]
  },
  {
   "cell_type": "markdown",
   "metadata": {},
   "source": [
    "* Transform `Dt_Customer` to datetime:"
   ]
  },
  {
   "cell_type": "code",
   "execution_count": null,
   "metadata": {},
   "outputs": [],
   "source": [
    "df['Dt_Customer'] = pd.to_datetime(df['Dt_Customer'])"
   ]
  },
  {
   "cell_type": "markdown",
   "metadata": {},
   "source": [
    "### Are there any useful variables that you can engineer with the given data?\n",
    "\n",
    "* Review a list of the feature names below, from which we can engineer:\n",
    "    - The total number of dependents in the home ('Dependents') can be engineered from the sum of 'Kidhome' and 'Teenhome'\n",
    "    - The year of becoming a customer ('Year_Customer') can be engineered from 'Dt_Customer'\n",
    "    - The total amount spent ('TotalMnt') can be engineered from the sum of all features containing the keyword 'Mnt'\n",
    "    - The total purchases ('TotalPurchases') can be engineered from the sum of all features containing the keyword 'Purchases'\n",
    "    - The total number of campains accepted ('TotalCampaignsAcc') can be engineered from the sum of all features containing the keywords 'Cmp' and 'Response' (the latest campaign)"
   ]
  },
  {
   "cell_type": "code",
   "execution_count": null,
   "metadata": {
    "_kg_hide-input": true
   },
   "outputs": [],
   "source": [
    "list(df.columns)"
   ]
  },
  {
   "cell_type": "markdown",
   "metadata": {},
   "source": [
    "* Perform feature engingeering as outlined in notes above:"
   ]
  },
  {
   "cell_type": "code",
   "execution_count": null,
   "metadata": {},
   "outputs": [],
   "source": [
    "# Dependents\n",
    "df['Dependents'] = df['Kidhome'] + df['Teenhome']\n",
    "\n",
    "# Year becoming a Customer\n",
    "df['Year_Customer'] = pd.DatetimeIndex(df['Dt_Customer']).year\n",
    "\n",
    "# Total Amount Spent\n",
    "mnt_cols = [col for col in df.columns if 'Mnt' in col]\n",
    "df['TotalMnt'] = df[mnt_cols].sum(axis=1)\n",
    "\n",
    "# Total Purchases\n",
    "purchases_cols = [col for col in df.columns if 'Purchases' in col]\n",
    "df['TotalPurchases'] = df[purchases_cols].sum(axis=1)\n",
    "\n",
    "# Total Campaigns Accepted\n",
    "campaigns_cols = [col for col in df.columns if 'Cmp' in col] + ['Response'] # 'Response' is for the latest campaign\n",
    "df['TotalCampaignsAcc'] = df[campaigns_cols].sum(axis=1)\n",
    "\n",
    "# view new features, by customer ID\n",
    "df[['ID', 'Dependents', 'Year_Customer', 'TotalMnt', 'TotalPurchases', 'TotalCampaignsAcc']].head()"
   ]
  },
  {
   "cell_type": "markdown",
   "metadata": {},
   "source": [
    "### Do you notice any patterns or anomalies in the data? Can you plot them?\n",
    "\n",
    "* To identify patterns, we will first identify feature correlations. Positive correlations between features appear red, negative correlations appear blue, and no correlation appears grey in the clustered heatmap below.\n",
    "* From this heatmap we can observe the following clusters of correlated features:\n",
    "    - The **\"High Income\"** cluster:\n",
    "        - Amount spent ('TotalMnt' and other 'Mnt' features) and number of purchases ('TotalPurchases' and other 'Num...Purchases' features) are positively correlated with 'Income'\n",
    "        - Purchasing in store, on the web, or via the catalog ('NumStorePurchases', 'NumWebPurchases', 'NumCatalogPurchases') is positively correlated with 'Income'\n",
    "    - The **\"Have Kids & Teens\"** cluster:\n",
    "        - Amount spent ('TotalMnt' and other 'Mnt' features) and number of purchases ('TotalPurchases' and other 'Num...Purchases' features) are negatively correlated with 'Dependents' (with a stronger effect from kids *vs.* teens)\n",
    "        - Purchasing deals ('NumDealsPurchases') is positively correlated with 'Dependents' (kids and/or teens) and negatively correlated with 'Income'\n",
    "    - The **\"Advertising Campaigns\"** cluster:\n",
    "        - Acceptance of the advertising campaigns ('AcceptedCmp' and 'Response') are strongly positively correlated with each other\n",
    "        - Weak positive correlation of the advertising campaigns is seen with the \"High Income\" cluster, and weak negative correlation is seen with the \"Have Kids & Teens\" cluster\n",
    "* Anomalies:\n",
    "    - Surprisingly, the number of website visits in the last month ('NumWebVisitsMonth') does not correlate with an increased number of web purchases ('NumWebPurchases')\n",
    "    - Instead, 'NumWebVisitsMonth' is positively correlated with the number of deals purchased ('NumDealsPurchases'), suggesting that  suggesting that deals are an effective way of stimulating purchases on the website"
   ]
  },
  {
   "cell_type": "code",
   "execution_count": null,
   "metadata": {
    "_kg_hide-input": true
   },
   "outputs": [],
   "source": [
    "# calculate correlation matrix\n",
    "## using non-parametric test of correlation (kendall), since some features are binary\n",
    "corrs = df.drop(columns='ID').select_dtypes(include=np.number).corr(method = 'kendall')\n",
    "\n",
    "# plot clustered heatmap of correlations\n",
    "sns.clustermap(corrs, cbar_pos=(-0.05, 0.8, 0.05, 0.18), cmap='coolwarm', center=0);"
   ]
  },
  {
   "cell_type": "markdown",
   "metadata": {},
   "source": [
    "* Plot illustrating the effect of high income on spending:\n",
    "\n",
    "Note: For the purposes of this plot, limiting income to < 200000 to remove outlier"
   ]
  },
  {
   "cell_type": "code",
   "execution_count": null,
   "metadata": {
    "_kg_hide-input": true
   },
   "outputs": [],
   "source": [
    "sns.lmplot(x='Income', y='TotalMnt', data=df[df['Income'] < 200000]);"
   ]
  },
  {
   "cell_type": "markdown",
   "metadata": {},
   "source": [
    "* Plot illustrating negative effect of having dependents (kids & teens) on spending:"
   ]
  },
  {
   "cell_type": "code",
   "execution_count": null,
   "metadata": {
    "_kg_hide-input": true
   },
   "outputs": [],
   "source": [
    "plt.figure(figsize=(4,4))\n",
    "sns.boxplot(x='Dependents', y='TotalMnt', data=df);"
   ]
  },
  {
   "cell_type": "markdown",
   "metadata": {},
   "source": [
    "* Plot illustrating positive effect of having dependents (kids & teens) on number of deals purchased:"
   ]
  },
  {
   "cell_type": "code",
   "execution_count": null,
   "metadata": {
    "_kg_hide-input": true
   },
   "outputs": [],
   "source": [
    "plt.figure(figsize=(4,4))\n",
    "sns.boxplot(x='Dependents', y='NumDealsPurchases', data=df);"
   ]
  },
  {
   "cell_type": "markdown",
   "metadata": {},
   "source": [
    "* Plots illustrating the positive effect of income and negative effect of having kids & teens on advertising campaign acceptance:\n",
    "\n",
    "Note: For the purposes of the following plot, limiting income to < 200000 to remove outlier"
   ]
  },
  {
   "cell_type": "code",
   "execution_count": 1,
   "metadata": {
    "_kg_hide-input": true,
    "execution": {
     "iopub.execute_input": "2022-05-23T19:32:53.141657Z",
     "iopub.status.busy": "2022-05-23T19:32:53.141281Z",
     "iopub.status.idle": "2022-05-23T19:32:53.182111Z",
     "shell.execute_reply": "2022-05-23T19:32:53.180683Z",
     "shell.execute_reply.started": "2022-05-23T19:32:53.141620Z"
    }
   },
   "outputs": [],
   "source": [
    "plt.figure(figsize=(5.5,4))\n",
    "sns.boxplot(x='TotalCampaignsAcc', y='Income', data=df[df['Income']<200000]);"
   ]
  },
  {
   "cell_type": "code",
   "execution_count": null,
   "metadata": {
    "_kg_hide-input": true
   },
   "outputs": [],
   "source": [
    "plt.figure(figsize=(5.5,4))\n",
    "sns.boxplot(x='TotalCampaignsAcc', y='Dependents', data=df);"
   ]
  },
  {
   "cell_type": "markdown",
   "metadata": {},
   "source": [
    "* Investigate anomaly: \n",
    "    - Number of web visits in the last month is not positively correlated with number of web purchases\n",
    "    - Instead, it is positively correlated with the number of deals purchased, suggesting that deals are an effective way of stimulating purchases on the website"
   ]
  },
  {
   "cell_type": "code",
   "execution_count": null,
   "metadata": {
    "_kg_hide-input": true
   },
   "outputs": [],
   "source": [
    "sns.lmplot(x='NumWebVisitsMonth', y='NumWebPurchases', data=df);"
   ]
  },
  {
   "cell_type": "code",
   "execution_count": null,
   "metadata": {
    "_kg_hide-input": true
   },
   "outputs": [],
   "source": [
    "sns.lmplot(x='NumWebVisitsMonth', y='NumDealsPurchases', data=df);"
   ]
  },
  {
   "cell_type": "markdown",
   "metadata": {},
   "source": [
    "# Section 02: Statistical Analysis\n",
    "\n",
    "Please run statistical tests in the form of regressions to answer these questions & propose data-driven action recommendations to your CMO. Make sure to interpret your results with non-statistical jargon so your CMO can understand your findings.  \n",
    "\n",
    "### What factors are significantly related to the number of store purchases?  \n",
    "\n",
    "* We will use use a linear regression model with `NumStorePurchases` as the target variable, and then use machine learning explainability techniques to get insights about which features predict the number of store purchases\n",
    "* Begin by plotting the target variable:"
   ]
  },
  {
   "cell_type": "code",
   "execution_count": null,
   "metadata": {
    "_kg_hide-input": true
   },
   "outputs": [],
   "source": [
    "plt.figure(figsize=(8,3))\n",
    "sns.distplot(df['NumStorePurchases'], kde=False, hist=True, bins=12)\n",
    "plt.title('NumStorePurchases distribution', size=16)\n",
    "plt.ylabel('count');"
   ]
  },
  {
   "cell_type": "markdown",
   "metadata": {},
   "source": [
    "* Drop uninformative features\n",
    "    - `ID` is unique to each customer\n",
    "    - `Dt_Customer` will be dropped in favor of using engineered variable `Year_Customer`\n",
    "* Perform one-hot encoding of categorical features, encoded data shown below:"
   ]
  },
  {
   "cell_type": "code",
   "execution_count": null,
   "metadata": {
    "_kg_hide-input": true
   },
   "outputs": [],
   "source": [
    "# drop unique ID\n",
    "df.drop(columns=['ID', 'Dt_Customer'], inplace=True)"
   ]
  },
  {
   "cell_type": "code",
   "execution_count": null,
   "metadata": {
    "_kg_hide-input": true
   },
   "outputs": [],
   "source": [
    "# one-hot encoding of categorical features\n",
    "from sklearn.preprocessing import OneHotEncoder\n",
    "\n",
    "# get categorical features and review number of unique values\n",
    "cat = df.select_dtypes(exclude=np.number)\n",
    "print(\"Number of unique values per categorical feature:\\n\", cat.nunique())\n",
    "\n",
    "# use one hot encoder\n",
    "enc = OneHotEncoder(sparse=False).fit(cat)\n",
    "cat_encoded = pd.DataFrame(enc.transform(cat))\n",
    "cat_encoded.columns = enc.get_feature_names(cat.columns)\n",
    "\n",
    "# merge with numeric data\n",
    "num = df.drop(columns=cat.columns)\n",
    "df2 = pd.concat([cat_encoded, num], axis=1)\n",
    "df2.head()"
   ]
  },
  {
   "cell_type": "markdown",
   "metadata": {},
   "source": [
    "* Fit linear regression model to training data (70% of dataset)\n",
    "* Evaluate predictions on test data (30% of dataset) using RMSE:\n",
    "    - Findings: The RMSE is exceedingly small compared to the median value of the target variable, indicating good model predictions"
   ]
  },
  {
   "cell_type": "code",
   "execution_count": null,
   "metadata": {
    "_kg_hide-input": true
   },
   "outputs": [],
   "source": [
    "from sklearn.model_selection import train_test_split\n",
    "from sklearn.linear_model import LinearRegression\n",
    "from sklearn.metrics import mean_squared_error\n",
    "\n",
    "# isolate X and y variables, and perform train-test split\n",
    "X = df2.drop(columns='NumStorePurchases')\n",
    "y = df2['NumStorePurchases']\n",
    "\n",
    "X_train, X_test, y_train, y_test = train_test_split(X, y, test_size=0.3, random_state=1)\n",
    "\n",
    "# linear regression model\n",
    "model = LinearRegression()\n",
    "model.fit(X_train, y_train)\n",
    "\n",
    "# predictions\n",
    "preds = model.predict(X_test)\n",
    "\n",
    "# evaluate model using RMSE\n",
    "print(\"Linear regression model RMSE: \", np.sqrt(mean_squared_error(y_test, preds)))\n",
    "print(\"Median value of target variable: \", y.median())"
   ]
  },
  {
   "cell_type": "markdown",
   "metadata": {},
   "source": [
    "* Identify features that significantly affect the number of store purchases, using permutation importance:\n",
    "    - Significant features:\n",
    "        - 'TotalPurchases', 'NumCatalogPurchases', 'NumWebPurchases', 'NumDealsPurchases'\n",
    "        - All other features are not significant"
   ]
  },
  {
   "cell_type": "code",
   "execution_count": null,
   "metadata": {
    "_kg_hide-input": true
   },
   "outputs": [],
   "source": [
    "import eli5\n",
    "from eli5.sklearn import PermutationImportance\n",
    "\n",
    "perm = PermutationImportance(model, random_state=1).fit(X_test, y_test)\n",
    "eli5.show_weights(perm, feature_names = X_test.columns.tolist(), top=5)"
   ]
  },
  {
   "cell_type": "markdown",
   "metadata": {},
   "source": [
    "* Explore the directionality of these effects, using SHAP values:\n",
    "    - Findings:\n",
    "        - The number of store purchases increases with higher number of total purchases ('TotalPurchases')\n",
    "        - The number of store purchases decreases with higher number of catalog, web, or deals purchases ('NumCatalogPurchases', 'NumWebPurchases', 'NumDealsPurchases')\n",
    "    - Interpretation:\n",
    "        - Customers who shop the most in stores are those who shop less via the catalog, website, or special deals"
   ]
  },
  {
   "cell_type": "code",
   "execution_count": null,
   "metadata": {
    "_kg_hide-input": true
   },
   "outputs": [],
   "source": [
    "import shap\n",
    "\n",
    "# calculate shap values \n",
    "ex = shap.Explainer(model, X_train)\n",
    "shap_values = ex(X_test)\n",
    "\n",
    "# plot\n",
    "plt.title('SHAP summary for NumStorePurchases', size=16)\n",
    "shap.plots.beeswarm(shap_values, max_display=5);"
   ]
  },
  {
   "cell_type": "markdown",
   "metadata": {},
   "source": [
    "### Does US fare significantly better than the Rest of the World in terms of total purchases?\n",
    "\n",
    "* Plot total number of purchases by country:\n",
    "    - Findings: \n",
    "        - Spain (SP) has the highest number of purchases\n",
    "        - US is second to last, therefore the US does not fare better than the rest of the world in terms of the total number of purchases"
   ]
  },
  {
   "cell_type": "code",
   "execution_count": null,
   "metadata": {
    "_kg_hide-input": true
   },
   "outputs": [],
   "source": [
    "plt.figure(figsize=(5,4))\n",
    "df.groupby('Country')['TotalPurchases'].sum().sort_values(ascending=False).plot(kind='bar')\n",
    "plt.title('Total Number of Purchases by Country', size=16)\n",
    "plt.ylabel('Number of Purchases');"
   ]
  },
  {
   "cell_type": "markdown",
   "metadata": {},
   "source": [
    "* Plot total amount spent by country: \n",
    "    - Findings: \n",
    "        - Spain (SP) has the highest total amount spent on purchases\n",
    "        - US is second to last, therefore the US does not fare better than the rest of the world in terms of the total amount spent on purchases"
   ]
  },
  {
   "cell_type": "code",
   "execution_count": null,
   "metadata": {
    "_kg_hide-input": true
   },
   "outputs": [],
   "source": [
    "plt.figure(figsize=(5,4))\n",
    "df.groupby('Country')['TotalMnt'].sum().sort_values(ascending=False).plot(kind='bar')\n",
    "plt.title('Total Amount Spent by Country', size=16)\n",
    "plt.ylabel('Amount Spent');"
   ]
  },
  {
   "cell_type": "markdown",
   "metadata": {},
   "source": [
    "### Your supervisor insists that people who buy gold are more conservative. Therefore, people who spent an above average amount on gold in the last 2 years would have more in store purchases. Justify or refute this statement using an appropriate statistical test\n",
    "\n",
    "* Plot relationship between amount spent on gold in the last 2 years (`MntGoldProds`) and number of in store purchases (`NumStorePurchases`):\n",
    "    - Findings: There is a positive relationship, but is it statistically significant?"
   ]
  },
  {
   "cell_type": "code",
   "execution_count": null,
   "metadata": {
    "_kg_hide-input": true
   },
   "outputs": [],
   "source": [
    "sns.lmplot(x='MntGoldProds', y='NumStorePurchases', data = df);"
   ]
  },
  {
   "cell_type": "markdown",
   "metadata": {},
   "source": [
    "* Perform Kendall correlation analysis (non-parametric test since `MntGoldProducts` is not normally distributed and contains outliers):\n",
    "    - Findings: There is significant positive correlation between `MntGoldProds` and `NumStorePurchases`"
   ]
  },
  {
   "cell_type": "code",
   "execution_count": null,
   "metadata": {
    "_kg_hide-input": true
   },
   "outputs": [],
   "source": [
    "from scipy.stats import kendalltau\n",
    "\n",
    "kendall_corr = kendalltau(x=df['MntGoldProds'], y=df['NumStorePurchases'])\n",
    "\n",
    "# print results\n",
    "print('Kendall correlation (tau): ', kendall_corr.correlation)\n",
    "print('Kendall p-value: ', kendall_corr.pvalue)"
   ]
  },
  {
   "cell_type": "markdown",
   "metadata": {},
   "source": [
    "### Fish has Omega 3 fatty acids which are good for the brain. Accordingly, do \"Married PhD candidates\" have a significant relation with amount spent on fish? \n",
    "\n",
    "* We will compare `MntFishProducts` between Married PhD candidates and all other customers:\n",
    "    - Findings: Married PhD candidates spend significantly less on fish products compared to other customers."
   ]
  },
  {
   "cell_type": "code",
   "execution_count": null,
   "metadata": {
    "_kg_hide-input": true
   },
   "outputs": [],
   "source": [
    "# sum the marital status and phd dummy variables - the Married+PhD group will have value of 2\n",
    "df2['Married_PhD'] = df2['Marital_Status_Married'] + df2['Education_PhD']\n",
    "df2['Married_PhD'] = df2['Married_PhD'].replace({2:'Married-PhD', 1:'Other', 0:'Other'})\n",
    "\n",
    "# plot MntFishProducts between Married-PhD and others\n",
    "plt.figure(figsize=(2.5,4))\n",
    "sns.boxplot(x='Married_PhD', y='MntFishProducts', data=df2);"
   ]
  },
  {
   "cell_type": "code",
   "execution_count": null,
   "metadata": {
    "_kg_hide-input": true
   },
   "outputs": [],
   "source": [
    "# independent t-test p-value\n",
    "from scipy.stats import ttest_ind\n",
    "pval = ttest_ind(df2[df2['Married_PhD'] == 'Married-PhD']['MntFishProducts'], df2[df2['Married_PhD'] == 'Other']['MntFishProducts']).pvalue\n",
    "print(\"t-test p-value: \", round(pval, 3))"
   ]
  },
  {
   "cell_type": "code",
   "execution_count": null,
   "metadata": {
    "_kg_hide-input": true,
    "_kg_hide-output": true
   },
   "outputs": [],
   "source": [
    "# now drop the married-phD column created above, to include only the original variables in the analysis below\n",
    "df2.drop(columns='Married_PhD', inplace=True)"
   ]
  },
  {
   "cell_type": "markdown",
   "metadata": {},
   "source": [
    "### What other factors are significantly related to amount spent on fish?\n",
    "\n",
    "* Like with the analysis of `NumStorePurchases` above, we will use use a linear regression model with `MntFishProducts` as the target variable, and then use machine learning explainability techniques to get insights about which features predict the amount spent on fish\n",
    "* Begin by plotting the target variable:"
   ]
  },
  {
   "cell_type": "code",
   "execution_count": null,
   "metadata": {
    "_kg_hide-input": true
   },
   "outputs": [],
   "source": [
    "plt.figure(figsize=(8,3))\n",
    "sns.distplot(df['MntFishProducts'], kde=False, hist=True, bins=12)\n",
    "plt.title('MntFishProducts distribution', size=16)\n",
    "plt.ylabel('count');"
   ]
  },
  {
   "cell_type": "markdown",
   "metadata": {},
   "source": [
    "* Fit linear regression model to training data (70% of dataset)\n",
    "* Evaluate predictions on test data (30% of dataset) using RMSE:\n",
    "    - Findings: The RMSE is exceedingly small compared to the median value of the target variable, indicating good model predictions"
   ]
  },
  {
   "cell_type": "code",
   "execution_count": null,
   "metadata": {
    "_kg_hide-input": true
   },
   "outputs": [],
   "source": [
    "# isolate X and y variables, and perform train-test split\n",
    "X = df2.drop(columns='MntFishProducts')\n",
    "y = df2['MntFishProducts']\n",
    "\n",
    "X_train, X_test, y_train, y_test = train_test_split(X, y, test_size=0.3, random_state=1)\n",
    "\n",
    "# linear regression model\n",
    "model = LinearRegression()\n",
    "model.fit(X_train, y_train)\n",
    "\n",
    "# predictions\n",
    "preds = model.predict(X_test)\n",
    "\n",
    "# evaluate model using RMSE\n",
    "print(\"Linear regression model RMSE: \", np.sqrt(mean_squared_error(y_test, preds)))\n",
    "print(\"Median value of target variable: \", y.median())"
   ]
  },
  {
   "cell_type": "markdown",
   "metadata": {},
   "source": [
    "* Identify features that significantly affect the amount spent on fish, using permutation importance:\n",
    "    - Significant features:\n",
    "        - 'TotalMnt', 'MntWines', 'MntMeatProducts', 'MntGoldProds', 'MntSweetProducts', 'MntFruits'\n",
    "        - All other features are not significant"
   ]
  },
  {
   "cell_type": "code",
   "execution_count": null,
   "metadata": {
    "_kg_hide-input": true
   },
   "outputs": [],
   "source": [
    "perm = PermutationImportance(model, random_state=1).fit(X_test, y_test)\n",
    "eli5.show_weights(perm, feature_names = X_test.columns.tolist(), top=7)"
   ]
  },
  {
   "cell_type": "markdown",
   "metadata": {},
   "source": [
    "* Explore the directionality of these effects, using SHAP values:\n",
    "    - Findings:\n",
    "        - The amount spent on fish increases with higher total amount spent ('TotalMnt')\n",
    "        - The amount spent on fish decreases with higher amounts spent on wine, meat, gold, fruit, or sweets ('MntWines', 'MntMeatProducts', 'MntGoldProds', 'MntSweetProducts', 'MntFruits')\n",
    "    - Interpretation:\n",
    "        - Customers who spend the most on fish are those who spend less on other products (wine, meat, gold, fruit, and sweets)"
   ]
  },
  {
   "cell_type": "code",
   "execution_count": null,
   "metadata": {
    "_kg_hide-input": true
   },
   "outputs": [],
   "source": [
    "import shap\n",
    "\n",
    "# calculate shap values \n",
    "ex = shap.Explainer(model, X_train)\n",
    "shap_values = ex(X_test)\n",
    "\n",
    "# plot\n",
    "plt.title('SHAP summary for MntFishProducts', size=16)\n",
    "shap.plots.beeswarm(shap_values, max_display=7);"
   ]
  },
  {
   "cell_type": "markdown",
   "metadata": {},
   "source": [
    "### Is there a significant relationship between geographical regional and success of a campaign?\n",
    "\n",
    "* Plot success of campaigns by region:\n",
    "    - Findings:\n",
    "        - The campaign acceptance rates are low overall\n",
    "        - The campaign with the highest overall acceptance rate is the most recent campaign (column name: `Response`)\n",
    "        - The country with the highest acceptance rate in any campaign is Mexico\n",
    "    - Is the effect of region on campaign success statistically significant? See below."
   ]
  },
  {
   "cell_type": "code",
   "execution_count": null,
   "metadata": {
    "_kg_hide-input": true
   },
   "outputs": [],
   "source": [
    "# convert country codes to correct nomenclature for choropleth plot\n",
    "# the dataset doesn't provide information about country codes\n",
    "## ...so I'm taking my best guess about the largest nations that make sense given the codes provided\n",
    "df['Country_code'] = df['Country'].replace({'SP': 'ESP', 'CA': 'CAN', 'US': 'USA', 'SA': 'ZAF', 'ME': 'MEX'})\n",
    "\n",
    "# success of campaigns by country code\n",
    "df_cam = df[['Country_code', 'AcceptedCmp1', 'AcceptedCmp2', 'AcceptedCmp3', 'AcceptedCmp4', 'AcceptedCmp5', 'Response']].melt(\n",
    "    id_vars='Country_code', var_name='Campaign', value_name='Accepted (%)')\n",
    "df_cam = pd.DataFrame(df_cam.groupby(['Country_code', 'Campaign'])['Accepted (%)'].mean()*100).reset_index(drop=False)\n",
    "\n",
    "# rename the campaign variables so they're easier to interpret\n",
    "df_cam['Campaign'] = df_cam['Campaign'].replace({'AcceptedCmp1': '1',\n",
    "                                                'AcceptedCmp2': '2',\n",
    "                                                'AcceptedCmp3': '3',\n",
    "                                                'AcceptedCmp4': '4',\n",
    "                                                'AcceptedCmp5': '5',\n",
    "                                                 'Response': 'Most recent'\n",
    "                                                })\n",
    "\n",
    "# choropleth plot\n",
    "import plotly.express as px\n",
    "\n",
    "fig = px.choropleth(df_cam, locationmode='ISO-3', color='Accepted (%)', facet_col='Campaign', facet_col_wrap=2,\n",
    "                    facet_row_spacing=0.05, facet_col_spacing=0.01, width=700,\n",
    "                    locations='Country_code', projection='natural earth', title='Advertising Campaign Success Rate by Country'\n",
    "                   )\n",
    "fig.show()"
   ]
  },
  {
   "cell_type": "markdown",
   "metadata": {},
   "source": [
    "* Statistical summary of regional effects on campaign success:\n",
    "    - Methodology: Performed logistic regression for Campaign Accepted by Country, reporting Chisq p-value for overall model.\n",
    "    - Findings: The regional differences in advertising campaign success are statistically significant."
   ]
  },
  {
   "cell_type": "code",
   "execution_count": null,
   "metadata": {
    "_kg_hide-input": true,
    "_kg_hide-output": true
   },
   "outputs": [],
   "source": [
    "# calculate logistic regression p-values for campaign acceptance ~ country using generalized linear model\n",
    "import statsmodels.formula.api as smf\n",
    "import statsmodels as sm\n",
    "from scipy import stats\n",
    "\n",
    "## get the data of interest for glm\n",
    "df_cam_wide = df[['Country', 'AcceptedCmp1', 'AcceptedCmp2', 'AcceptedCmp3', 'AcceptedCmp4', 'AcceptedCmp5', 'Response']]\n",
    "\n",
    "## to store statistics results\n",
    "stat_results = []\n",
    "\n",
    "## perform glm\n",
    "for col in df_cam_wide.drop(columns='Country').columns:\n",
    "    this_data = df_cam_wide[['Country', col]]\n",
    "    \n",
    "    # define formula\n",
    "    formula = col+'~Country'\n",
    "    \n",
    "    # logistic regression (family=binomial)\n",
    "    model = smf.glm(formula = formula, data=this_data, family=sm.genmod.families.Binomial())\n",
    "    result = model.fit()\n",
    "    \n",
    "    # get chisquare value for overall model (CampaignAccepted ~ Country) and calculate p-value\n",
    "    chisq = result.pearson_chi2\n",
    "    pval = stats.distributions.chi2.sf(chisq , 7) # Df Model = 7 degrees of freedom when you run result.summary()\n",
    "     \n",
    "    # append to stat_results\n",
    "    stat_results.append(pval)\n",
    "    \n",
    "    # print stat summary for entire model\n",
    "    print(result.summary())\n",
    "    \n",
    "## check results\n",
    "print(\"\\nChisq p-values: \", stat_results)"
   ]
  },
  {
   "cell_type": "code",
   "execution_count": null,
   "metadata": {
    "_kg_hide-input": true
   },
   "outputs": [],
   "source": [
    "# plotting\n",
    "## merge in the original country codes provided in the dataset\n",
    "countries = df[['Country', 'Country_code']].drop_duplicates().reset_index(drop=True)\n",
    "df_cam2 = df_cam.merge(countries, how='left', on='Country_code')\n",
    "df_cam2.head()\n",
    "\n",
    "## bar graphs\n",
    "g = sns.FacetGrid(df_cam2, col='Campaign', col_wrap=3)\n",
    "g.map(sns.barplot, 'Country', 'Accepted (%)')\n",
    "for ax, pval in zip(g.axes.flat, stat_results):\n",
    "    ax.text(0, 65, \"Chisq p-value: \"+str(pval), fontsize=9) #add text;"
   ]
  },
  {
   "cell_type": "markdown",
   "metadata": {},
   "source": [
    "# Section 03: Data Visualization"
   ]
  },
  {
   "cell_type": "markdown",
   "metadata": {},
   "source": [
    "Please plot and visualize the answers to the below questions.\n",
    "\n",
    "### Which marketing campaign is most successful?\n",
    "\n",
    "* Plot marketing campaign overall acceptance rates:\n",
    "    - Findings: The most successful campaign is the most recent (column name: `Response`)"
   ]
  },
  {
   "cell_type": "code",
   "execution_count": null,
   "metadata": {
    "_kg_hide-input": true
   },
   "outputs": [],
   "source": [
    "# calculate success rate (percent accepted)\n",
    "cam_success = pd.DataFrame(df[['AcceptedCmp1', 'AcceptedCmp2', 'AcceptedCmp3', 'AcceptedCmp4', 'AcceptedCmp5', 'Response']].mean()*100, \n",
    "                           columns=['Percent']).reset_index()\n",
    "\n",
    "# plot\n",
    "sns.barplot(x='Percent', y='index', data=cam_success.sort_values('Percent'), palette='Blues')\n",
    "plt.xlabel('Accepted (%)')\n",
    "plt.ylabel('Campaign')\n",
    "plt.title('Marketing campaign success rate', size=16);"
   ]
  },
  {
   "cell_type": "markdown",
   "metadata": {},
   "source": [
    "### What does the average customer look like for this company?\n",
    "\n",
    "* Basic demographics: The average customer is...\n",
    "    - Born in 1969\n",
    "    - Became a customer in 2013\n",
    "    - Has an income of roughly \\$52,000 per year\n",
    "    - Has 1 dependent (roughly equally split between kids or teens)\n",
    "    - Made a purchase from our company in the last 49 days"
   ]
  },
  {
   "cell_type": "code",
   "execution_count": null,
   "metadata": {
    "_kg_hide-input": true,
    "_kg_hide-output": true
   },
   "outputs": [],
   "source": [
    "# list of cols with binary responses\n",
    "binary_cols = [col for col in df.columns if 'Accepted' in col] + ['Response', 'Complain']\n",
    "\n",
    "# list of cols for spending \n",
    "mnt_cols = [col for col in df.columns if 'Mnt' in col]\n",
    "\n",
    "# list of cols for channels\n",
    "channel_cols = [col for col in df.columns if 'Num' in col] + ['TotalPurchases', 'TotalCampaignsAcc']"
   ]
  },
  {
   "cell_type": "code",
   "execution_count": null,
   "metadata": {
    "_kg_hide-input": true
   },
   "outputs": [],
   "source": [
    "# average customer demographics\n",
    "demographics = pd.DataFrame(round(df.drop(columns=binary_cols+mnt_cols+channel_cols).mean(), 1), columns=['Average']).reindex([\n",
    "    'Year_Birth', 'Year_Customer', 'Income', 'Dependents', 'Kidhome', 'Teenhome', 'Recency'])\n",
    "\n",
    "demographics"
   ]
  },
  {
   "cell_type": "markdown",
   "metadata": {},
   "source": [
    "### Which products are performing best?\n",
    "\n",
    "* The average customer spent...\n",
    "    - \\$25-50 on Fruits, Sweets, Fish, or Gold products\n",
    "    - Over \\$160 on Meat products\n",
    "    - Over \\$300 on Wines\n",
    "    - Over \\$600 total\n",
    "* Products performing best:\n",
    "    - Wines\n",
    "    - Followed by meats"
   ]
  },
  {
   "cell_type": "code",
   "execution_count": null,
   "metadata": {
    "_kg_hide-input": true
   },
   "outputs": [],
   "source": [
    "spending = pd.DataFrame(round(df[mnt_cols].mean(), 1), columns=['Average']).sort_values(by='Average').reset_index()\n",
    "\n",
    "# plot\n",
    "ax = sns.barplot(x='Average', y='index', data=spending, palette='Blues')\n",
    "plt.ylabel('Amount spent on...')\n",
    "\n",
    "## add text labels for each bar's value\n",
    "for p,q in zip(ax.patches, spending['Average']):\n",
    "    ax.text(x=q+40,\n",
    "            y=p.get_y()+0.5,\n",
    "            s=q,\n",
    "            ha=\"center\") ;"
   ]
  },
  {
   "cell_type": "markdown",
   "metadata": {},
   "source": [
    "### Which channels are underperforming?\n",
    "\n",
    "* Channels: The average customer...\n",
    "    - Accepted less than 1 advertising campaign\n",
    "    - Made 2 deals purchases, 2 catalog purchases, 4 web purchases, and 5 store purchases\n",
    "    - Averaged 14 total purchases\n",
    "    - Visited the website 5 times\n",
    "* Underperforming channels:\n",
    "    - Advertising campaigns\n",
    "    - Followed by deals, and catalog"
   ]
  },
  {
   "cell_type": "code",
   "execution_count": null,
   "metadata": {
    "_kg_hide-input": true
   },
   "outputs": [],
   "source": [
    "channels = pd.DataFrame(round(df[channel_cols].mean(), 1), columns=['Average']).sort_values(by='Average').reset_index()\n",
    "\n",
    "# plot\n",
    "ax = sns.barplot(x='Average', y='index', data=channels, palette='Blues')\n",
    "plt.ylabel('Number of...')\n",
    "\n",
    "## add text labels for each bar's value\n",
    "for p,q in zip(ax.patches, channels['Average']):\n",
    "    ax.text(x=q+0.8,\n",
    "            y=p.get_y()+0.5,\n",
    "            s=q,\n",
    "            ha=\"center\") ;"
   ]
  },
  {
   "cell_type": "markdown",
   "metadata": {},
   "source": [
    "# Conclusion"
   ]
  },
  {
   "cell_type": "markdown",
   "metadata": {},
   "source": [
    "\n",
    "**Recall the overall goal:**  \n",
    "You're a marketing analyst and you've been told by the Chief Marketing Officer that recent marketing campaigns have not been as effective as they were expected to be. You need to analyze the data set to understand this problem and propose data-driven solutions...\n",
    "\n",
    "**Summary of actionable findings to improve advertising campaign success:**  \n",
    "* The most successful advertising campaign was the most recent campaign (column name: `Response`), and was particularly successful in Mexico (>60% acceptance rate!)\n",
    "    - Suggested action: Conduct future advertising campaigns using the same model recently implemented in Mexico. \n",
    "* Advertising campaign acceptance is positively correlated with income and negatively correlated with having kids/teens\n",
    "    - Suggested action: Create two streams of targeted advertising campaigns, one aimed at high-income individuals without kids/teens and another aimed at lower-income individuals with kids/teens\n",
    "* The most successful products are wines and meats (*i.e.* the average customer spent the most on these items)\n",
    "    - Suggested action: Focus advertising campaigns on boosting sales of the less popular items\n",
    "* The underperforming channels are deals and catalog purchases (*i.e.* the average customer made the fewest purchases via these channels)\n",
    "* The best performing channels are web and store purchases (*i.e.* the average customer made the most purchases via these channels)\n",
    "    - Suggested action: Focus advertising campaigns on the more successful channels, to reach more customers"
   ]
  }
 ],
 "metadata": {
  "kernelspec": {
   "display_name": "Python 3",
   "language": "python",
   "name": "python3"
  },
  "language_info": {
   "codemirror_mode": {
    "name": "ipython",
    "version": 3
   },
   "file_extension": ".py",
   "mimetype": "text/x-python",
   "name": "python",
   "nbconvert_exporter": "python",
   "pygments_lexer": "ipython3",
   "version": "3.8.5"
  }
 },
 "nbformat": 4,
 "nbformat_minor": 4
}
